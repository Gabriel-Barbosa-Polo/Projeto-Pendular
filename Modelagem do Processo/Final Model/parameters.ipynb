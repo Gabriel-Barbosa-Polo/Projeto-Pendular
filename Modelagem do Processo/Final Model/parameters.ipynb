{
 "cells": [
  {
   "cell_type": "markdown",
   "metadata": {},
   "source": [
    "Parâmetros do motor:\n",
    "\\begin{equation}\n",
    "    \\tau = 540\\,\\mu s\n",
    "\\end{equation} \n",
    "\n",
    "\\begin{equation}\n",
    "    k_t = 0.65377 \\, NmA^{-1}\n",
    "\\end{equation} \n",
    "\n",
    "\\begin{equation}\n",
    "    k_\\omega = 0.7816 \\, Vs\n",
    "\\end{equation} \n",
    "\n",
    "\\begin{equation}\n",
    "    k_v = 0.0064877 \\, Nms\n",
    "\\end{equation} \n",
    "\n",
    "\\begin{equation}\n",
    "    r_e = 6.05\\, \\Omega\n",
    "\\end{equation}\n",
    "\n",
    "\\begin{equation}\n",
    "    V_0 = 3.47 \\, V\n",
    "\\end{equation}\n",
    "\n",
    "Se $PWM\\cdot V_{bat} - k_\\omega  > V_0 \\rightarrow V_{eq} = PWM\\cdot V_{bat} - V_0 - k_\\omega \\cdot \\omega $\n",
    "\n",
    "Se $PWM\\cdot V_{bat} - k_\\omega  <  -V_0 \\rightarrow V_{eq} = PWM\\cdot V_{bat} + V_0 - k_\\omega \\cdot \\omega $\n",
    "\n",
    "Senão $V_{eq} = 0$\n",
    "\n",
    "\n"
   ]
  },
  {
   "cell_type": "markdown",
   "metadata": {},
   "source": [
    "Considerando a notação utilizada no modelo de Euler Lagrange, observe o modelo em Laplace, sendo $u$ o torque e $V_n = PWM\\cdot V_{bat} - V_0$ a entrada e $\\omega = \\dot\\theta - \\dot\\Phi$:\n",
    "\n",
    "\\begin{equation}\n",
    "    U(s) = \\frac{2k_t}{r_e}\\frac{1}{\\tau s + 1}V_n(s) - \\frac{2k_tk_\\omega}{r_e}\\frac{s}{\\tau s + 1}\\Delta\\theta + \\frac{2k_tk_\\omega}{r_e}\\frac{s}{\\tau s + 1}\\Delta\\Phi\n",
    "\\end{equation}\n",
    "\n",
    "\\begin{equation}\n",
    "    U(s) = D_1(s)V_n(s) + D_2(s)\\Delta\\theta + D_3(s)\\Delta\\Phi\n",
    "\\end{equation}\n",
    " "
   ]
  },
  {
   "cell_type": "markdown",
   "metadata": {},
   "source": [
    "Parâmetros do robô, obtidos pelo CAD e referências externas\n",
    "\n",
    "\\begin{equation}\n",
    "    I_b = 0.0040680128000000005\\, Kg\\,m^2\n",
    "\\end{equation}\n",
    "\n",
    "\\begin{equation}\n",
    "    m_b = 0.919\\,Kg\n",
    "\\end{equation}\n",
    "\n",
    "\\begin{equation}\n",
    "    l = 0.062468307 \\,m\n",
    "\\end{equation}\n",
    "\n",
    "\\begin{equation}\n",
    "    r_w = 0.035 \\,m\n",
    "\\end{equation}\n",
    "\n",
    "\\begin{equation}\n",
    "    g = 9.80665 \\,m\\,s^{-2}\n",
    "\\end{equation}\n",
    "\n",
    "\\begin{equation}\n",
    "    m_w = 0.046 \\,Kg\n",
    "\\end{equation}\n",
    "\n",
    "\\begin{equation}\n",
    "    I_w = 2.8061902e-5 \\,Kg\\,m^2\n",
    "\\end{equation}"
   ]
  },
  {
   "cell_type": "markdown",
   "metadata": {},
   "source": [
    "Considere o modelo de Euler Lagrange para a dinâmica do robô pendular\n",
    "\\begin{equation}\n",
    "    \\left[I_b+m_bl^2\\right] \\ddot\\theta +\n",
    "    \\left[m_b\\,r_w\\,l\\right] \\ddot{\\Phi}\\,cos\\theta -\n",
    "    \\left[m_b\\,g\\,l\\right] sin\\theta +\n",
    "    k_v\\,\\dot\\theta -\n",
    "    k_v\\,\\dot\\Phi\n",
    "    = -u\n",
    "\\end{equation}\n",
    "\n",
    "\\begin{equation}\n",
    "\\left[ m_b\\,r_w^2 + m_w\\,r_w^2 + I_w \\right] \\ddot\\Phi +\n",
    "    \\left[ m_b\\,r_w\\,l\\right] \\ddot{\\theta}\\,cos\\theta - \n",
    "    \\left[m_b\\,r_w\\,l\\right]\\dot\\theta^2\\,sin\\theta -\n",
    "    k_v\\,\\dot\\theta +\n",
    "    k_v\\,\\dot\\Phi\n",
    "    = u  \n",
    "\\end{equation}"
   ]
  },
  {
   "cell_type": "markdown",
   "metadata": {},
   "source": [
    "Considerando o modelo linearizado no ponto: $\\Phi = \\theta = 0$\n",
    "\\begin{equation}\n",
    "    a_1 \\Delta\\ddot\\theta +\n",
    "    c_0 \\Delta\\ddot{\\Phi} -\n",
    "    a_2 \\Delta\\theta +\n",
    "    k_v \\Delta\\dot\\theta -\n",
    "    k_v \\Delta\\dot\\Phi\n",
    "    = -u\n",
    "\\end{equation}\n",
    "\n",
    "\\begin{equation}\n",
    "    b_1 \\Delta\\ddot\\Phi +\n",
    "    c_0 \\Delta\\ddot{\\theta} - \n",
    "    k_v \\Delta\\dot\\theta +\n",
    "    k_v \\Delta\\dot\\Phi\n",
    "    = u  \n",
    "\\end{equation}"
   ]
  },
  {
   "cell_type": "markdown",
   "metadata": {},
   "source": [
    "Transformando para o domínio de Laplace:\n",
    "\\begin{equation}\n",
    "    \\left[ a_1s^2 + k_vs - a_2 \\right] \\Delta\\theta + \n",
    "    \\left[ c_0s^2 - k_vs \\right]\\Delta\\Phi \n",
    "    = F_1(s)\\Delta\\theta + F_2(s)\\Delta\\Phi \n",
    "    = -U(s)\n",
    "\\end{equation}\n",
    "\n",
    "\\begin{equation}\n",
    "    \\left[ c_0s^2 - k_vs \\right] \\Delta\\theta +\n",
    "    \\left[ b_1s^2 + k_vs \\right] \\Delta\\Phi \n",
    "    = G_1(s)\\Delta\\theta + G_2(s)\\Delta\\Phi \n",
    "    = U(s)  \n",
    "\\end{equation}"
   ]
  },
  {
   "cell_type": "markdown",
   "metadata": {},
   "source": [
    "Manipulando as duas equações, temos que:\n",
    "\n",
    "\\begin{equation}\n",
    "    \\left[a_2 - (a_1 + c_0)s^2 \\right] \\Delta\\theta = \\left[(b_1 + c_0)s^2 \\right] \\Delta\\Phi \n",
    "    \\rightarrow \n",
    "    E_1(s)\\Delta\\theta = E_2(s)\\Delta\\Phi \n",
    "\\end{equation}"
   ]
  },
  {
   "cell_type": "markdown",
   "metadata": {},
   "source": [
    "Substituindo nas outras equações:\n",
    "\n",
    "\\begin{equation}\n",
    "    H_1(s) = G_1(s) + G_2(s)\\frac{E_1(s)}{E_2(s)} - D_2(s) - D_3(s)\\frac{E_1(s)}{E_2(s)}\n",
    "\\end{equation}\n",
    "\n",
    "\\begin{equation}\n",
    "    H_2(s) = G_1(s)\\frac{E_2(s)}{E_1(s)} + G_2(s) - D_2\\frac{E_2(s)}{E_1(s)} - D_3\n",
    "\\end{equation}\n",
    "\n",
    "Sendo que:\n",
    "\\begin{equation}\n",
    "    \\frac{\\Delta\\theta}{V_n}(s) = \\frac{D_1(s)}{H_1(s)}\n",
    "\\end{equation}\n",
    "\n",
    "\\begin{equation}\n",
    "    \\frac{\\Delta\\Phi}{V_n}(s) = \\frac{D_1(s)}{H_2(s)}\n",
    "\\end{equation}"
   ]
  }
 ],
 "metadata": {
  "kernelspec": {
   "display_name": "Julia 1.9.0",
   "language": "julia",
   "name": "julia-1.9"
  },
  "language_info": {
   "file_extension": ".jl",
   "mimetype": "application/julia",
   "name": "julia",
   "version": "1.9.0"
  },
  "orig_nbformat": 4
 },
 "nbformat": 4,
 "nbformat_minor": 2
}
