{
 "cells": [
  {
   "cell_type": "code",
   "execution_count": 49,
   "metadata": {},
   "outputs": [
    {
     "data": {
      "text/latex": [
       "$\\displaystyle \\frac{- \\frac{g l^{2} m_{b}^{2} r_{w} \\theta_{0}}{I_{b} + l^{2} m_{b}} - k_{v} \\phi_{1} + k_{v} \\theta_{1} + \\frac{l m_{b} r_{w} \\left(- k_{v} \\phi_{1} + k_{v} \\theta_{1} + u\\right)}{I_{b} + l^{2} m_{b}} + u}{I_{w} - \\frac{l^{2} m_{b}^{2} r_{w}^{2}}{I_{b} + l^{2} m_{b}} + m_{b} r_{w}^{2} + m_{w} r_{w}^{2}}$"
      ],
      "text/plain": [
       "<IPython.core.display.Math object>"
      ]
     },
     "execution_count": 49,
     "metadata": {},
     "output_type": "execute_result"
    }
   ],
   "source": [
    "import sympy as sym\n",
    "import numpy as np\n",
    "\n",
    "teta2 = sym.Symbol('theta_2')\n",
    "teta1 = sym.Symbol('theta_1')\n",
    "teta0 = sym.Symbol('theta_0')\n",
    "phi2 = sym.Symbol('phi_2')\n",
    "phi1 = sym.Symbol('phi_1')\n",
    "phi0 = sym.Symbol('phi_0')\n",
    "\n",
    "g = sym.Symbol('g')\n",
    "rw = sym.Symbol('r_w')\n",
    "mb = sym.Symbol('m_b')\n",
    "mw = sym.Symbol('m_w')\n",
    "l = sym.Symbol('l')\n",
    "Iw = sym.Symbol('I_w')\n",
    "Ib = sym.Symbol('I_b')\n",
    "kv = sym.Symbol('k_v')\n",
    "\n",
    "alpha = Ib+mb*l**2\n",
    "beta = mb*rw**2 + mw*rw**2 + Iw\n",
    "gamma = mb*rw*l\n",
    "epsi = mb*g*l\n",
    "\n",
    "costeta = 1 #sym.cos(teta0) //Linearização\n",
    "sinteta = teta0 #sym.sin(teta0) // Linearização\n",
    "u = sym.Symbol('u') \n",
    "\n",
    "a_k =  gamma*costeta\n",
    "b_k = kv*teta1 - kv*phi1 + u\n",
    "c_k = -epsi*sinteta\n",
    "d_k = 0 #-gamma*teta1**2*sinteta //Linearização\n",
    "\n",
    "phi2_ = (1/(beta - a_k**2/alpha))*(b_k - d_k + a_k*b_k/alpha + a_k*c_k/alpha)\n",
    "phi2__ = sym.simplify(phi2_)\n",
    "from IPython.display import Math\n",
    "Math(sym.latex(phi2_))\n",
    "\n",
    "# teta2_ = (-1/alpha)*(a_k*phi2__+b_k+c_k)\n",
    "# teta2__ = sym.simplify(teta2_)\n",
    "# Math(sym.latex(teta2__))\n",
    "\n"
   ]
  }
 ],
 "metadata": {
  "kernelspec": {
   "display_name": "Python 3",
   "language": "python",
   "name": "python3"
  },
  "language_info": {
   "codemirror_mode": {
    "name": "ipython",
    "version": 3
   },
   "file_extension": ".py",
   "mimetype": "text/x-python",
   "name": "python",
   "nbconvert_exporter": "python",
   "pygments_lexer": "ipython3",
   "version": "3.10.5"
  },
  "orig_nbformat": 4
 },
 "nbformat": 4,
 "nbformat_minor": 2
}
